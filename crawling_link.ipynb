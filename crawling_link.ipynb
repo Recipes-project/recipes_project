{
 "cells": [
  {
   "cell_type": "code",
   "execution_count": 1,
   "metadata": {},
   "outputs": [],
   "source": [
    "import time\n",
    "import requests\n",
    "import matplotlib\n",
    "import matplotlib.pyplot as plt\n",
    "import numpy as np\n",
    "import seaborn as sn\n",
    "import pandas as pd\n",
    "\n",
    "\n",
    "from selenium import webdriver\n",
    "from matplotlib import rc\n",
    "from bs4 import BeautifulSoup\n",
    "from urllib.request import urlopen\n",
    "from selenium.webdriver.common.by import By"
   ]
  },
  {
   "cell_type": "code",
   "execution_count": 2,
   "metadata": {},
   "outputs": [
    {
     "name": "stderr",
     "output_type": "stream",
     "text": [
      "C:\\Users\\admin\\AppData\\Local\\Temp\\ipykernel_12188\\2025538577.py:3: DeprecationWarning: executable_path has been deprecated, please pass in a Service object\n",
      "  wd = webdriver.Chrome('./chromedriver.exe',options=options)\n"
     ]
    }
   ],
   "source": [
    "options = webdriver.ChromeOptions()\n",
    "options.add_experimental_option(\"excludeSwitches\", [\"enable-logging\"])\n",
    "wd = webdriver.Chrome('./chromedriver.exe',options=options)"
   ]
  },
  {
   "cell_type": "code",
   "execution_count": 3,
   "metadata": {},
   "outputs": [
    {
     "data": {
      "text/plain": [
       "185120"
      ]
     },
     "execution_count": 3,
     "metadata": {},
     "output_type": "execute_result"
    }
   ],
   "source": [
    "# 만개의 레시피 사이트에서 url 주소 크롤링\n",
    "# 최신순 카테고리 기준으로 'https://www.10000recipe.com/'뒤에 숫자만 바뀌기 때문에 해당 url의 숫자만 추출함\n",
    "url_recipes = []\n",
    "\n",
    "for x in range(1,4629):\n",
    "    star_url = f'https://www.10000recipe.com/recipe/list.html?order=date&page={x}'\n",
    "    wd.get(star_url)\n",
    "    time.sleep(2)\n",
    "    \n",
    "    # 레시피 링크 추출\n",
    "    req = wd.page_source\n",
    "    soup = BeautifulSoup(req, \"html.parser\")\n",
    "\n",
    "    for i in range(0,40):\n",
    "        link_recipes = soup.find_all(\"li\", class_ = \"common_sp_list_li\")[i]\n",
    "        link_recipes = link_recipes.find(\"a\")[\"href\"]\n",
    "        link_recipes = link_recipes.split('/')[-1]\n",
    "        # print(link_recipes)\n",
    "        \n",
    "        data = { 'url' : link_recipes }\n",
    "\n",
    "        url_recipes.append(data)\n",
    "len(url_recipes)"
   ]
  },
  {
   "cell_type": "code",
   "execution_count": 4,
   "metadata": {},
   "outputs": [],
   "source": [
    "# 데이터프레임으로 담아서 csv 파일로 저장\n",
    "df_recipes = pd.DataFrame(url_recipes)\n",
    "df_recipes.head()\n",
    "\n",
    "df_recipes.to_csv('recipes_link.csv')"
   ]
  },
  {
   "cell_type": "code",
   "execution_count": 6,
   "metadata": {},
   "outputs": [
    {
     "data": {
      "text/html": [
       "<div>\n",
       "<style scoped>\n",
       "    .dataframe tbody tr th:only-of-type {\n",
       "        vertical-align: middle;\n",
       "    }\n",
       "\n",
       "    .dataframe tbody tr th {\n",
       "        vertical-align: top;\n",
       "    }\n",
       "\n",
       "    .dataframe thead th {\n",
       "        text-align: right;\n",
       "    }\n",
       "</style>\n",
       "<table border=\"1\" class=\"dataframe\">\n",
       "  <thead>\n",
       "    <tr style=\"text-align: right;\">\n",
       "      <th></th>\n",
       "      <th>Unnamed: 0</th>\n",
       "      <th>url</th>\n",
       "    </tr>\n",
       "  </thead>\n",
       "  <tbody>\n",
       "    <tr>\n",
       "      <th>185115</th>\n",
       "      <td>185115</td>\n",
       "      <td>19720</td>\n",
       "    </tr>\n",
       "    <tr>\n",
       "      <th>185116</th>\n",
       "      <td>185116</td>\n",
       "      <td>19718</td>\n",
       "    </tr>\n",
       "    <tr>\n",
       "      <th>185117</th>\n",
       "      <td>185117</td>\n",
       "      <td>19281</td>\n",
       "    </tr>\n",
       "    <tr>\n",
       "      <th>185118</th>\n",
       "      <td>185118</td>\n",
       "      <td>18491</td>\n",
       "    </tr>\n",
       "    <tr>\n",
       "      <th>185119</th>\n",
       "      <td>185119</td>\n",
       "      <td>18490</td>\n",
       "    </tr>\n",
       "  </tbody>\n",
       "</table>\n",
       "</div>"
      ],
      "text/plain": [
       "        Unnamed: 0    url\n",
       "185115      185115  19720\n",
       "185116      185116  19718\n",
       "185117      185117  19281\n",
       "185118      185118  18491\n",
       "185119      185119  18490"
      ]
     },
     "execution_count": 6,
     "metadata": {},
     "output_type": "execute_result"
    }
   ],
   "source": [
    "df_link = pd.read_csv('./recipes_link.csv')\n",
    "df_link.tail()"
   ]
  },
  {
   "cell_type": "code",
   "execution_count": 7,
   "metadata": {},
   "outputs": [
    {
     "data": {
      "text/plain": [
       "(6987285, 185120)"
      ]
     },
     "execution_count": 7,
     "metadata": {},
     "output_type": "execute_result"
    }
   ],
   "source": [
    "link_data = df_link.iloc[:,1]\n",
    "link_data[79],len(link_data)"
   ]
  },
  {
   "cell_type": "code",
   "execution_count": null,
   "metadata": {},
   "outputs": [],
   "source": [
    "# 추출한  만개의 레시피 url 생성\n",
    "cnt_link = len(link_data)\n",
    "\n",
    "for i in range(cnt_link):\n",
    "  link_R = link_data[i]\n",
    "  new_url = f'https://www.10000recipe.com/recipe/{link_R}'\n",
    "  print(new_url)"
   ]
  }
 ],
 "metadata": {
  "kernelspec": {
   "display_name": "Python 3.9.12 ('base')",
   "language": "python",
   "name": "python3"
  },
  "language_info": {
   "codemirror_mode": {
    "name": "ipython",
    "version": 3
   },
   "file_extension": ".py",
   "mimetype": "text/x-python",
   "name": "python",
   "nbconvert_exporter": "python",
   "pygments_lexer": "ipython3",
   "version": "3.9.12"
  },
  "orig_nbformat": 4,
  "vscode": {
   "interpreter": {
    "hash": "610a6f344c2137faf927ea819c63f6cee33a2c04455044b28099f39fe9722347"
   }
  }
 },
 "nbformat": 4,
 "nbformat_minor": 2
}
